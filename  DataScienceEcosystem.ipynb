{
 "cells": [
  {
   "cell_type": "markdown",
   "id": "97946d8a",
   "metadata": {},
   "source": [
    "# Data Science Tools and Ecosystem"
   ]
  },
  {
   "cell_type": "markdown",
   "id": "c2bdb0c2",
   "metadata": {},
   "source": [
    "## Data Science Tools and Ecosystem \n",
    "## Introduction\n",
    "\n",
    "In this notebook, we will explore the fascinating world of Data Science Tools and Ecosystem. Data science is a multidisciplinary field that leverages a range of tools and techniques to extract valuable insights from data. The data science ecosystem encompasses various programming languages, libraries, and frameworks that enable data scientists to collect, analyze, visualize, and interpret data, ultimately driving data-driven decision-making across various domains.\n"
   ]
  },
  {
   "cell_type": "markdown",
   "id": "ee58f447",
   "metadata": {},
   "source": [
    "### ##  List of Data Science Languages\n",
    "\n",
    "Some of the popular languages that Data Scientists use are:\n",
    "\n",
    "1. **Python**: Python is widely recognized as the go-to language for data science. It offers a plethora of libraries such as NumPy, Pandas, Matplotlib, and Scikit-Learn, making it a versatile choice for data analysis, machine learning, and data visualization.\n",
    "\n",
    "2. **R**: R is another powerful language specifically designed for statistical analysis and data visualization. It excels in data exploration, statistical modeling, and creating high-quality data visualizations with packages like ggplot2.\n",
    "\n",
    "3. **SQL (Structured Query Language)**: SQL is essential for working with relational databases. Data scientists frequently use SQL to extract, transform, and analyze data stored in databases, which is crucial for real-world data analysis projects.\n",
    "\n",
    "4. **Java**: Java is favored for big data processing with technologies like Apache Hadoop and Spark. It's particularly useful for handling large datasets and implementing scalable data solutions.\n",
    "\n",
    "5. **Julia**: Julia is an emerging language known for its high performance and is gaining popularity in data science, especially for computationally intensive tasks and numerical simulations.\n",
    "\n",
    "6. **SAS**: SAS (Statistical Analysis System) is widely used in certain industries for advanced analytics and business intelligence.\n",
    "\n",
    "These languages provide data scientists with a wide range of tools to handle data and conduct various data analysis tasks, catering to different preferences and project requirements.\n"
   ]
  },
  {
   "cell_type": "markdown",
   "id": "e878a3d1",
   "metadata": {},
   "source": [
    "## List of data Science Libraries\n",
    "\n",
    "\n",
    "Some of the commonly used libraries used by Data Scientists include:\n",
    "\n",
    "1. **Pandas**: Pandas is a powerful library for data manipulation and analysis. It provides data structures like DataFrames for handling tabular data and a wide range of functions for cleaning, transforming, and summarizing data.\n",
    "\n",
    "2. **NumPy**: NumPy is fundamental for numerical computing in Python. It offers support for large, multi-dimensional arrays and matrices, as well as a variety of mathematical functions to operate on this data efficiently.\n",
    "\n",
    "3. **Scikit-Learn**: Scikit-Learn is a versatile machine learning library for Python. It includes various algorithms for classification, regression, clustering, and model evaluation, making it an essential tool for building and evaluating machine learning models.\n",
    "\n",
    "4. **Matplotlib**: Matplotlib is a popular data visualization library in Python. It enables the creation of various charts, graphs, and plots to help visualize and communicate data insights effectively.\n",
    "\n",
    "5. **Seaborn**: Seaborn is built on top of Matplotlib and provides a high-level interface for creating informative and attractive statistical graphics. It's especially useful for creating complex visualizations with minimal code.\n",
    "\n",
    "6. **TensorFlow**: TensorFlow is an open-source machine learning framework developed by Google. It is widely used for deep learning applications and neural network modeling, offering flexibility and scalability for complex projects.\n",
    "\n",
    "7. **PyTorch**: PyTorch is another popular deep learning framework that is known for its dynamic computation graph. It's favored by researchers and data scientists for its flexibility and ease of use in building and training deep learning models.\n",
    "\n",
    "These libraries play a crucial role in the toolkit of data scientists, enabling them to efficiently process, analyze, and visualize data, as well as build sophisticated machine learning and deep learning models.\n"
   ]
  },
  {
   "cell_type": "markdown",
   "id": "9ff38003",
   "metadata": {},
   "source": [
    "## Data Science Tools\n",
    "\n",
    "| Data Science Tools |\n",
    "|-------------------|\n",
    "| Jupyter Notebook   |\n",
    "| RStudio           |\n",
    "| Visual Studio Code |\n"
   ]
  },
  {
   "cell_type": "markdown",
   "id": "89d04862",
   "metadata": {},
   "source": [
    "### Arithmetic Expression Examples in Python\n",
    "\n",
    "Below are a few examples of evaluating arithmetic expressions in Python. Python provides a wide range of operators for performing arithmetic calculations, making it a versatile language for numerical computations.\n"
   ]
  },
  {
   "cell_type": "code",
   "execution_count": 1,
   "id": "bb784f14",
   "metadata": {},
   "outputs": [
    {
     "data": {
      "text/plain": [
       "17"
      ]
     },
     "execution_count": 1,
     "metadata": {},
     "output_type": "execute_result"
    }
   ],
   "source": [
    "# This is a simple arithmetic expression to multiply then add integers.\n",
    "result = (3 * 4) + 5\n",
    "result\n"
   ]
  },
  {
   "cell_type": "code",
   "execution_count": 2,
   "id": "8bcf200b",
   "metadata": {},
   "outputs": [
    {
     "data": {
      "text/plain": [
       "3.3333333333333335"
      ]
     },
     "execution_count": 2,
     "metadata": {},
     "output_type": "execute_result"
    }
   ],
   "source": [
    "# This will convert 200 minutes to hours by dividing by 60.\n",
    "minutes = 200\n",
    "hours = minutes / 60\n",
    "hours\n"
   ]
  },
  {
   "cell_type": "markdown",
   "id": "bf146716",
   "metadata": {},
   "source": [
    "## Objectives:\n",
    "\n",
    "- List popular languages for Data Science.\n",
    "- Identify commonly used libraries in Data Science.\n",
    "- Explore open-source development environment tools used in Data Science.\n",
    "- Provide examples of evaluating arithmetic expressions in Python.\n",
    "- Demonstrate the conversion of minutes to hours in Python.\n"
   ]
  },
  {
   "cell_type": "markdown",
   "id": "69202830",
   "metadata": {},
   "source": [
    "## Author\n",
    "\n",
    "Yasrab Sahar\n"
   ]
  },
  {
   "cell_type": "code",
   "execution_count": null,
   "id": "da7df867",
   "metadata": {},
   "outputs": [],
   "source": []
  }
 ],
 "metadata": {
  "kernelspec": {
   "display_name": "Python 3 (ipykernel)",
   "language": "python",
   "name": "python3"
  },
  "language_info": {
   "codemirror_mode": {
    "name": "ipython",
    "version": 3
   },
   "file_extension": ".py",
   "mimetype": "text/x-python",
   "name": "python",
   "nbconvert_exporter": "python",
   "pygments_lexer": "ipython3",
   "version": "3.11.5"
  }
 },
 "nbformat": 4,
 "nbformat_minor": 5
}
